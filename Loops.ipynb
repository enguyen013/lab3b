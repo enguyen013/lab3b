{
  "nbformat": 4,
  "nbformat_minor": 0,
  "metadata": {
    "colab": {
      "provenance": [],
      "include_colab_link": true
    },
    "kernelspec": {
      "name": "python3",
      "display_name": "Python 3"
    },
    "language_info": {
      "name": "python"
    }
  },
  "cells": [
    {
      "cell_type": "markdown",
      "metadata": {
        "id": "view-in-github",
        "colab_type": "text"
      },
      "source": [
        "<a href=\"https://colab.research.google.com/github/enguyen013/lab3b/blob/main/Loops.ipynb\" target=\"_parent\"><img src=\"https://colab.research.google.com/assets/colab-badge.svg\" alt=\"Open In Colab\"/></a>"
      ]
    },
    {
      "cell_type": "markdown",
      "source": [
        "# Loops in Python\n",
        "\n",
        "A sequence of instructions that repeats until a certain condition is met\n",
        "\n",
        "## Objective\n",
        "Understand how loops are applied\n",
        "\n",
        "## Prerequisite\n",
        "\n",
        "- Decision statements\n",
        "- Input functions\n",
        "- Python literals\n",
        "- Programming variables\n",
        "\n",
        "## What do you need to complete this exercise?\n",
        "\n",
        "You can perform this exercise in any Python IDE, including JupyterLab or Google Colab.\n"
      ],
      "metadata": {
        "id": "2ITy4ycVFXBq"
      }
    },
    {
      "cell_type": "markdown",
      "source": [
        "### While loop\n",
        "\n",
        "a. Please write Python code using a while loop to perform the following steps.\n",
        "\n",
        "1. Take any non-negative and non-zero integer number and name it ```n0```\n",
        "2. if the number is even, evaluate a new ```n0``` as ```n0 ÷ 2```;\n",
        "3. Otherwise, if the number is odd, evaluate a new ```n0``` as ```3 * n0 + 1```;\n",
        "4. if ```n0``` is not equal to 1, go to point 2.\n",
        "\n",
        "#### Sample input: ```16```\n",
        "\n",
        "#### Expected output: ###\n",
        "\n",
        "```\n",
        "8\n",
        "4\n",
        "2\n",
        "1\n",
        "steps = 4\n",
        "```"
      ],
      "metadata": {
        "id": "uQxH0KO0tsDc"
      }
    },
    {
      "cell_type": "code",
      "source": [
        "n0 = int(input(\"Enter a non-negative and non-zero integer: \"))\n",
        "\n",
        "\n",
        "steps = 0\n",
        "\n",
        "\n",
        "if n0 <= 0:\n",
        "    print(\"Please enter a non-negative and non-zero integer.\")\n",
        "else:\n",
        "\n",
        "    while n0 != 1:\n",
        "        print(n0)\n",
        "        if n0 % 2 == 0:\n",
        "            n0 = n0 // 2\n",
        "        else:\n",
        "            n0 = 3 * n0 + 1\n",
        "        steps += 1\n",
        "\n",
        "\n",
        "    print(n0)\n",
        "    steps += 1\n",
        "\n",
        "\n",
        "    print(\"steps =\", steps)"
      ],
      "metadata": {
        "id": "5M7ksW8xsC3k",
        "outputId": "a672f6f5-8325-47c3-ee93-d5be29a93e31",
        "colab": {
          "base_uri": "https://localhost:8080/"
        }
      },
      "execution_count": 1,
      "outputs": [
        {
          "output_type": "stream",
          "name": "stdout",
          "text": [
            "Enter a non-negative and non-zero integer: 8\n",
            "8\n",
            "4\n",
            "2\n",
            "1\n",
            "steps = 4\n"
          ]
        }
      ]
    },
    {
      "cell_type": "markdown",
      "source": [
        "b. Write code that uses a while loop and runs indefinitely. Modify the same code to resolve the infinite loop issue."
      ],
      "metadata": {
        "id": "S3X6hdy5sI-s"
      }
    },
    {
      "cell_type": "code",
      "source": [
        "n0 = int(input(\"Enter a non-negative and non-zero integer: \"))\n",
        "\n",
        "\n",
        "while True:\n",
        "    print(n0)\n",
        "    if n0 == 1:\n",
        "        break\n",
        "    elif n0 % 2 == 0:\n",
        "        n0 = n0 // 2\n",
        "    else:\n",
        "        n0 = 3 * n0 + 1"
      ],
      "metadata": {
        "id": "cs0pk1_qsNY0",
        "outputId": "5a47a58c-d17a-4a9b-aeec-5599d91eb90e",
        "colab": {
          "base_uri": "https://localhost:8080/"
        }
      },
      "execution_count": 2,
      "outputs": [
        {
          "output_type": "stream",
          "name": "stdout",
          "text": [
            "Enter a non-negative and non-zero integer: 8\n",
            "8\n",
            "4\n",
            "2\n",
            "1\n"
          ]
        }
      ]
    },
    {
      "cell_type": "markdown",
      "source": [
        "c. Write a program that takes two integers as input and asks the user to choose an arithmetic operation to perform with those numbers. At the end of the program, prompt the user with the question, \"Do you want to continue?\" If the user selects \"Y\" or \"y,\" the program should restart; otherwise, it should exit and display the message, \"Have a good day.\""
      ],
      "metadata": {
        "id": "oxXvMBKNsX8M"
      }
    },
    {
      "cell_type": "code",
      "source": [
        "def perform_operation(num1, num2, operation):\n",
        "    if operation == '1':\n",
        "        return num1 + num2\n",
        "    elif operation == '2':\n",
        "        return num1 - num2\n",
        "    elif operation == '3':\n",
        "        return num1 * num2\n",
        "    elif operation == '4':\n",
        "        if num2 != 0:\n",
        "            return num1 / num2\n",
        "        else:\n",
        "            return \"Error: Division by zero\"\n",
        "    else:\n",
        "        return \"Invalid operation selected\"\n",
        "\n",
        "\n",
        "while True:\n",
        "\n",
        "    try:\n",
        "        num1 = int(input(\"Enter the first integer: \"))\n",
        "        num2 = int(input(\"Enter the second integer: \"))\n",
        "    except ValueError:\n",
        "        print(\"Please enter valid integers.\")\n",
        "        continue\n",
        "\n",
        "\n",
        "    print(\"Choose an arithmetic operation:\")\n",
        "    print(\"1. Addition\")\n",
        "    print(\"2. Subtraction\")\n",
        "    print(\"3. Multiplication\")\n",
        "    print(\"4. Division\")\n",
        "\n",
        "    operation = input(\"Enter the number corresponding to the operation: \")\n",
        "\n",
        "\n",
        "    result = perform_operation(num1, num2, operation)\n",
        "    print(f\"The result is: {result}\")\n",
        "\n",
        "\n",
        "    continue_choice = input(\"Do you want to continue? (Y/N): \").strip().lower()\n",
        "\n",
        "    if continue_choice != 'y':\n",
        "        print(\"Have a good day!\")\n",
        "        break"
      ],
      "metadata": {
        "id": "w9Ai1I_JsYw9",
        "outputId": "d42dc892-3d4d-4911-ce53-01b521b913e7",
        "colab": {
          "base_uri": "https://localhost:8080/"
        }
      },
      "execution_count": 3,
      "outputs": [
        {
          "output_type": "stream",
          "name": "stdout",
          "text": [
            "Enter the first integer: 3\n",
            "Enter the second integer: 5\n",
            "Choose an arithmetic operation:\n",
            "1. Addition\n",
            "2. Subtraction\n",
            "3. Multiplication\n",
            "4. Division\n",
            "Enter the number corresponding to the operation: 1\n",
            "The result is: 8\n",
            "Do you want to continue? (Y/N): y\n",
            "Enter the first integer: 5\n",
            "Enter the second integer: 3\n",
            "Choose an arithmetic operation:\n",
            "1. Addition\n",
            "2. Subtraction\n",
            "3. Multiplication\n",
            "4. Division\n",
            "Enter the number corresponding to the operation: 1\n",
            "The result is: 8\n",
            "Do you want to continue? (Y/N): n\n",
            "Have a good day!\n"
          ]
        }
      ]
    },
    {
      "cell_type": "markdown",
      "source": [
        "### 2. For loops\n",
        "\n",
        "a. Write a code that counts the total number of characters in a text and also counts each character individually. For example, consider the sentence \"To be, or not to be, that is the question.\" The code should determine the total number of letters and how many times each letter appears, including specific counts for the letters 't' and 'o', etc. Ignore the upper and lower cases letters, and any punctuations symbols. Use only for loop, while loop, break and continue statements where necessary.\n",
        "\n",
        "#### Sample input: ```To be, or not to be, that is the question```\n",
        "\n",
        "#### Expected output: ###\n",
        "\n",
        "```\n",
        "Total number of alphabets: 30\n",
        "Total number of distinct alphabets are:\n",
        "T = 7\n",
        "o = 4\n",
        "```\n",
        "> **Note:** The expected output above is incomplete.\n"
      ],
      "metadata": {
        "id": "IeiOBf1Tse1c"
      }
    },
    {
      "cell_type": "code",
      "source": [
        "text = input(\"Enter a sentence: \")\n",
        "\n",
        "\n",
        "letter_count = {}\n",
        "\n",
        "\n",
        "total_letters = 0\n",
        "\n",
        "\n",
        "text = text.lower()\n",
        "\n",
        "\n",
        "for char in text:\n",
        "\n",
        "    if char.isalpha():\n",
        "\n",
        "        total_letters += 1\n",
        "\n",
        "\n",
        "        if char in letter_count:\n",
        "            letter_count[char] += 1\n",
        "        else:\n",
        "            letter_count[char] = 1\n",
        "\n",
        "\n",
        "print(f\"Total number of alphabets: {total_letters}\")\n",
        "\n",
        "\n",
        "print(\"Total number of distinct alphabets are:\")\n",
        "for letter, count in letter_count.items():\n",
        "    print(f\"{letter} = {count}\")"
      ],
      "metadata": {
        "id": "FprfxHfksh2-",
        "outputId": "38c0fc9e-e39d-4ada-b961-67fb1060abd7",
        "colab": {
          "base_uri": "https://localhost:8080/"
        }
      },
      "execution_count": 5,
      "outputs": [
        {
          "output_type": "stream",
          "name": "stdout",
          "text": [
            "Enter a sentence: hi\n",
            "Total number of alphabets: 2\n",
            "Total number of distinct alphabets are:\n",
            "h = 1\n",
            "i = 1\n"
          ]
        }
      ]
    },
    {
      "cell_type": "markdown",
      "source": [
        "## Challenges\n",
        "\n",
        "Please describe the challenges you faced during the exercise."
      ],
      "metadata": {
        "id": "xQzjxKdvvbyo"
      }
    },
    {
      "cell_type": "markdown",
      "source": [
        "The challenge here was ensuring that both uppercase and lowercase letters were counted the same way. To resolve this, I used the .lower() method to convert the entire text to lowercase before processing. This handled the challenge effectively.\n",
        "Ignoring Non-Alphabetic Characters:\n",
        "\n",
        "Another challenge was ensuring that only alphabetic characters  were counted, and any punctuation, spaces, or numbers were ignored. I used the isalpha() method to check each character and ensured only letters were processed.\n"
      ],
      "metadata": {
        "id": "qfJNpTB5EbY4"
      }
    }
  ]
}